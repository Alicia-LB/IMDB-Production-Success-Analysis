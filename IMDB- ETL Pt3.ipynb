{
 "cells": [
  {
   "cell_type": "markdown",
   "id": "95c89cfe",
   "metadata": {},
   "source": [
    "# ETL\n",
    "\n",
    "## Specifications:\n",
    "\n",
    "- Create a MySQL database for stakeholder.\n",
    "\n",
    "- Normalize the tables as best you can before adding them to new database.\n",
    "\n",
    "Note: an important exception to stakeholder's request is that they would like you to keep all of the data from the TMDB API in 1 table together (even though it will not be perfectly normalized).  \n",
    "- Need to keep the imdb_id, revenue, budget, and certification columns\n",
    "\n",
    "Normalize Genre:\n",
    "\n",
    "Convert the single string of genres from title basics into 2 new tables.\n",
    "\n",
    "- title_genres: with the columns:\n",
    "\n",
    "  - tconst\n",
    "  - genre_id\n",
    "- genres:\n",
    "\n",
    "  - genre_id\n",
    "  - genre_name\n",
    "\n"
   ]
  },
  {
   "cell_type": "code",
   "execution_count": 2,
   "id": "5d2ea32f",
   "metadata": {},
   "outputs": [],
   "source": [
    "#import libraries \n",
    "\n",
    "import pandas as pd \n",
    "import numpy as np \n",
    "from sqlalchemy import create_engine\n",
    "from sqlalchemy_utils import create_database, database_exists "
   ]
  },
  {
   "cell_type": "markdown",
   "id": "d8b2349c",
   "metadata": {},
   "source": [
    "## Title basics data"
   ]
  },
  {
   "cell_type": "code",
   "execution_count": null,
   "id": "b68059ea",
   "metadata": {},
   "outputs": [],
   "source": [
    "#load basics data first \n",
    "\n",
    "basics = pd.read_csv('Data/title_basics.csv.gz')\n",
    "basics.head()"
   ]
  }
 ],
 "metadata": {
  "kernelspec": {
   "display_name": "Python (dojo-env)",
   "language": "python",
   "name": "dojo-env"
  },
  "language_info": {
   "codemirror_mode": {
    "name": "ipython",
    "version": 3
   },
   "file_extension": ".py",
   "mimetype": "text/x-python",
   "name": "python",
   "nbconvert_exporter": "python",
   "pygments_lexer": "ipython3",
   "version": "3.7.12"
  },
  "toc": {
   "base_numbering": 1,
   "nav_menu": {},
   "number_sections": false,
   "sideBar": true,
   "skip_h1_title": false,
   "title_cell": "Table of Contents",
   "title_sidebar": "Contents",
   "toc_cell": false,
   "toc_position": {},
   "toc_section_display": true,
   "toc_window_display": false
  }
 },
 "nbformat": 4,
 "nbformat_minor": 5
}
